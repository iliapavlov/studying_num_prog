{
 "cells": [
  {
   "cell_type": "markdown",
   "id": "816ee1bb",
   "metadata": {},
   "source": [
    "# Домашнє завдання 3"
   ]
  },
  {
   "cell_type": "markdown",
   "id": "5668c5bf",
   "metadata": {},
   "source": [
    "## 1. Завантаження векторів слів"
   ]
  },
  {
   "cell_type": "code",
   "execution_count": 38,
   "id": "13b0d1d7",
   "metadata": {},
   "outputs": [
    {
     "name": "stdout",
     "output_type": "stream",
     "text": [
      "1. Огляд завантажених даних:\n",
      "------------------------------\n",
      "Довжина завантаженого набору даних з моделі: 243 слів.\n",
      "\n",
      "Приклад даних: \n",
      "Вектор для слова 'country' (перші 10 з 300 координат):\n",
      "[-0.08007812  0.13378906  0.14355469  0.09472656 -0.04736328 -0.02355957\n",
      " -0.00854492 -0.18652344  0.04589844 -0.08154297]\n",
      "Розмірність вектора (300,) \n",
      "\n",
      "Список слів у моделі (перші 25 з 243 слів):\n",
      "['country', 'city', 'China', 'Iraq', 'oil', 'town', 'Canada', 'London', 'England', 'Australia', 'Japan', 'Pakistan', 'Iran', 'gas', 'happy', 'Russia', 'Afghanistan', 'France', 'Germany', 'Georgia', 'Baghdad', 'village', 'Spain', 'Italy', 'Beijing']\n",
      "Розмірність початкової матриці векторів: (243, 300)\n",
      "\n",
      "\n",
      "2. Відбір трьох головних компонент:\n",
      "------------------------------\n",
      "Розмірність матриці після PCA: (243, 3)\n",
      "\n",
      "\n",
      "3. Датафрейм з новими даними:\n",
      "------------------------------\n",
      "DataFrame, створений за допомогою PCA (перші 10 рядків):\n",
      "                  x         y         z\n",
      "country    0.746037 -0.387964 -0.482691\n",
      "city       0.102492  0.140384 -1.189891\n",
      "China      0.831055 -0.129500 -0.312599\n",
      "Iraq       0.656337 -0.177791 -0.338381\n",
      "oil        0.658345 -0.432464 -0.621213\n",
      "town       0.378076 -0.080444 -1.053469\n",
      "Canada     1.191961 -0.407709 -0.741816\n",
      "London    -0.297986  0.253387 -1.151863\n",
      "England    1.103978 -0.110078 -0.893429\n",
      "Australia  1.049533 -0.452267 -0.835772\n"
     ]
    }
   ],
   "source": [
    "import pickle\n",
    "import pandas as pd\n",
    "import numpy as np\n",
    "from sklearn.decomposition import PCA\n",
    "\n",
    "file_name = 'word_embeddings_subset.p'\n",
    "\n",
    "with open(file_name, 'rb') as f:\n",
    "    word_embeddings = pickle.load(f)\n",
    "\n",
    "### Огляд завантажених даних\n",
    "print(\"1. Огляд завантажених даних:\")\n",
    "print(\"-\" * 30)\n",
    "print(f\"Довжина завантаженого набору даних з моделі: {len(word_embeddings)} слів.\\n\")\n",
    "\n",
    "country_vector = word_embeddings['country']\n",
    "print(f\"Приклад даних: \\nВектор для слова 'country' (перші 10 з {len(country_vector)} координат):\")\n",
    "print(country_vector[:10])\n",
    "print(\"Розмірність вектора\", np.shape(country_vector), \"\\n\")\n",
    "\n",
    "words = list(word_embeddings.keys())\n",
    "print(f\"Список слів у моделі (перші 25 з {len(words)} слів):\")\n",
    "print(words[:25])\n",
    "\n",
    "vectors = np.array(list(word_embeddings.values()))\n",
    "print(f\"Розмірність початкової матриці векторів: {vectors.shape}\\n\")\n",
    "\n",
    "### Відбір трьох головних компонент\n",
    "print(\"\\n2. Відбір трьох головних компонент:\")\n",
    "print(\"-\" * 30)\n",
    "\n",
    "# Навчаємо модель PCA на наших даних і трансформуємо їх\n",
    "# Результатом буде нова матриця з векторами розмірності 3\n",
    "pca = PCA(n_components=3)\n",
    "reduced_vectors = pca.fit_transform(vectors)\n",
    "print(f\"Розмірність матриці після PCA: {reduced_vectors.shape}\\n\")\n",
    "\n",
    "### Датафрейм з новими даними\n",
    "print(\"\\n3. Датафрейм з новими даними:\")\n",
    "print(\"-\" * 30)\n",
    "\n",
    "# Тепер 'x', 'y', 'z' - це значення головних компонент\n",
    "df_pca = pd.DataFrame(data=reduced_vectors, index=words, columns=['x', 'y', 'z'] )\n",
    "\n",
    "print(\"DataFrame, створений за допомогою PCA (перші 10 рядків):\")\n",
    "print(df_pca.head(10))"
   ]
  },
  {
   "cell_type": "markdown",
   "id": "268b8bc4",
   "metadata": {},
   "source": [
    "## 2. Функція для пошуку найближчого слова"
   ]
  },
  {
   "cell_type": "code",
   "execution_count": 39,
   "id": "7597c5b9",
   "metadata": {},
   "outputs": [],
   "source": [
    "from numpy.linalg import norm\n",
    "\n",
    "def find_closest_word_cosine(input_vector, df):\n",
    "    \"\"\"\n",
    "    Знаходить найбільш подібне слово (з ІНДЕКСУ DataFrame) до заданого вектора,\n",
    "    використовуючи косинусну подібність.\n",
    "    \"\"\"\n",
    "    embedding_vectors = df[['x', 'y', 'z']].values\n",
    "    input_vec_np = np.array(input_vector)\n",
    "    \n",
    "    dot_products = np.dot(embedding_vectors, input_vec_np)\n",
    "    norms = norm(embedding_vectors, axis=1) * norm(input_vec_np)\n",
    "    \n",
    "    # Уникаємо ділення на нуль, якщо вхідний вектор нульовий\n",
    "    if norms.all() == 0:\n",
    "        return None\n",
    "    \n",
    "    similarities = dot_products / norms\n",
    "    \n",
    "    closest_index = np.argmax(similarities)\n",
    "    closest_word = df.index[closest_index]\n",
    "    \n",
    "    return closest_word"
   ]
  },
  {
   "cell_type": "code",
   "execution_count": 40,
   "id": "80169e9c",
   "metadata": {},
   "outputs": [
    {
     "data": {
      "application/vnd.plotly.v1+json": {
       "config": {
        "plotlyServerURL": "https://plot.ly"
       },
       "data": [
        {
         "hovertemplate": "x=%{x}<br>y=%{y}<br>z=%{z}<br>index=%{text}<extra></extra>",
         "legendgroup": "",
         "marker": {
          "color": "#636efa",
          "size": 3,
          "symbol": "circle"
         },
         "mode": "markers+text",
         "name": "",
         "scene": "scene",
         "showlegend": false,
         "text": [
          "Funafuti",
          "Turkey",
          "Romania",
          "Belgrade",
          "Rwanda",
          "Namibia",
          "Egypt",
          "Vilnius",
          "Ankara",
          "Kathmandu",
          "Bamako",
          "Mogadishu",
          "Paramaribo",
          "Accra",
          "Cyprus",
          "Khartoum",
          "Angola",
          "Tunis",
          "Syria",
          "Taiwan",
          "Senegal",
          "Lisbon",
          "town",
          "Turkmenistan",
          "Denmark"
         ],
         "textposition": "top center",
         "type": "scatter3d",
         "x": {
          "bdata": "PzGDvR8zlj88pY0/20f7vnJHzj0/wNw+SNg7P9IENr9LKgy/bCiUv/Mnvr+IH/i/twl3v+Qszb/D92k/yTOxv2vGLD/wL42/mwUZP5HDPT9lPbw+60MCPCyTwT76TCo/oFKPPw==",
          "dtype": "f4"
         },
         "y": {
          "bdata": "mG2PvrWaAT/QMzE/wg28P9T3jL8ZRoa/Z7cKv9ff+D9c1Zc/GXSLPpiEJL/FkG6/ikzbvu9YWL8YX84+BlU2v84PgL93aMC9yrGHvWngcL6x1pa/DXwSP6W/pL1srPQ+SowxPg==",
          "dtype": "f4"
         },
         "z": {
          "bdata": "7oyGvy993z63cxU/dWmZPhjGTj9BTEI/sOemPhXNvT7xafU+fl0hv9LIMD8AaCQ/3iAMvwMPxT5oH7s+u3EBP7xWIT+7Ygu+5hzYPiiT0r5GOzU/vRU6vw/Yhr+Y9Kw/49q4vg==",
          "dtype": "f4"
         }
        }
       ],
       "layout": {
        "legend": {
         "tracegroupgap": 0
        },
        "scene": {
         "domain": {
          "x": [
           0,
           1
          ],
          "y": [
           0,
           1
          ]
         },
         "xaxis": {
          "title": {
           "text": "x"
          }
         },
         "yaxis": {
          "title": {
           "text": "y"
          }
         },
         "zaxis": {
          "title": {
           "text": "z"
          }
         }
        },
        "template": {
         "data": {
          "bar": [
           {
            "error_x": {
             "color": "#2a3f5f"
            },
            "error_y": {
             "color": "#2a3f5f"
            },
            "marker": {
             "line": {
              "color": "#E5ECF6",
              "width": 0.5
             },
             "pattern": {
              "fillmode": "overlay",
              "size": 10,
              "solidity": 0.2
             }
            },
            "type": "bar"
           }
          ],
          "barpolar": [
           {
            "marker": {
             "line": {
              "color": "#E5ECF6",
              "width": 0.5
             },
             "pattern": {
              "fillmode": "overlay",
              "size": 10,
              "solidity": 0.2
             }
            },
            "type": "barpolar"
           }
          ],
          "carpet": [
           {
            "aaxis": {
             "endlinecolor": "#2a3f5f",
             "gridcolor": "white",
             "linecolor": "white",
             "minorgridcolor": "white",
             "startlinecolor": "#2a3f5f"
            },
            "baxis": {
             "endlinecolor": "#2a3f5f",
             "gridcolor": "white",
             "linecolor": "white",
             "minorgridcolor": "white",
             "startlinecolor": "#2a3f5f"
            },
            "type": "carpet"
           }
          ],
          "choropleth": [
           {
            "colorbar": {
             "outlinewidth": 0,
             "ticks": ""
            },
            "type": "choropleth"
           }
          ],
          "contour": [
           {
            "colorbar": {
             "outlinewidth": 0,
             "ticks": ""
            },
            "colorscale": [
             [
              0,
              "#0d0887"
             ],
             [
              0.1111111111111111,
              "#46039f"
             ],
             [
              0.2222222222222222,
              "#7201a8"
             ],
             [
              0.3333333333333333,
              "#9c179e"
             ],
             [
              0.4444444444444444,
              "#bd3786"
             ],
             [
              0.5555555555555556,
              "#d8576b"
             ],
             [
              0.6666666666666666,
              "#ed7953"
             ],
             [
              0.7777777777777778,
              "#fb9f3a"
             ],
             [
              0.8888888888888888,
              "#fdca26"
             ],
             [
              1,
              "#f0f921"
             ]
            ],
            "type": "contour"
           }
          ],
          "contourcarpet": [
           {
            "colorbar": {
             "outlinewidth": 0,
             "ticks": ""
            },
            "type": "contourcarpet"
           }
          ],
          "heatmap": [
           {
            "colorbar": {
             "outlinewidth": 0,
             "ticks": ""
            },
            "colorscale": [
             [
              0,
              "#0d0887"
             ],
             [
              0.1111111111111111,
              "#46039f"
             ],
             [
              0.2222222222222222,
              "#7201a8"
             ],
             [
              0.3333333333333333,
              "#9c179e"
             ],
             [
              0.4444444444444444,
              "#bd3786"
             ],
             [
              0.5555555555555556,
              "#d8576b"
             ],
             [
              0.6666666666666666,
              "#ed7953"
             ],
             [
              0.7777777777777778,
              "#fb9f3a"
             ],
             [
              0.8888888888888888,
              "#fdca26"
             ],
             [
              1,
              "#f0f921"
             ]
            ],
            "type": "heatmap"
           }
          ],
          "histogram": [
           {
            "marker": {
             "pattern": {
              "fillmode": "overlay",
              "size": 10,
              "solidity": 0.2
             }
            },
            "type": "histogram"
           }
          ],
          "histogram2d": [
           {
            "colorbar": {
             "outlinewidth": 0,
             "ticks": ""
            },
            "colorscale": [
             [
              0,
              "#0d0887"
             ],
             [
              0.1111111111111111,
              "#46039f"
             ],
             [
              0.2222222222222222,
              "#7201a8"
             ],
             [
              0.3333333333333333,
              "#9c179e"
             ],
             [
              0.4444444444444444,
              "#bd3786"
             ],
             [
              0.5555555555555556,
              "#d8576b"
             ],
             [
              0.6666666666666666,
              "#ed7953"
             ],
             [
              0.7777777777777778,
              "#fb9f3a"
             ],
             [
              0.8888888888888888,
              "#fdca26"
             ],
             [
              1,
              "#f0f921"
             ]
            ],
            "type": "histogram2d"
           }
          ],
          "histogram2dcontour": [
           {
            "colorbar": {
             "outlinewidth": 0,
             "ticks": ""
            },
            "colorscale": [
             [
              0,
              "#0d0887"
             ],
             [
              0.1111111111111111,
              "#46039f"
             ],
             [
              0.2222222222222222,
              "#7201a8"
             ],
             [
              0.3333333333333333,
              "#9c179e"
             ],
             [
              0.4444444444444444,
              "#bd3786"
             ],
             [
              0.5555555555555556,
              "#d8576b"
             ],
             [
              0.6666666666666666,
              "#ed7953"
             ],
             [
              0.7777777777777778,
              "#fb9f3a"
             ],
             [
              0.8888888888888888,
              "#fdca26"
             ],
             [
              1,
              "#f0f921"
             ]
            ],
            "type": "histogram2dcontour"
           }
          ],
          "mesh3d": [
           {
            "colorbar": {
             "outlinewidth": 0,
             "ticks": ""
            },
            "type": "mesh3d"
           }
          ],
          "parcoords": [
           {
            "line": {
             "colorbar": {
              "outlinewidth": 0,
              "ticks": ""
             }
            },
            "type": "parcoords"
           }
          ],
          "pie": [
           {
            "automargin": true,
            "type": "pie"
           }
          ],
          "scatter": [
           {
            "fillpattern": {
             "fillmode": "overlay",
             "size": 10,
             "solidity": 0.2
            },
            "type": "scatter"
           }
          ],
          "scatter3d": [
           {
            "line": {
             "colorbar": {
              "outlinewidth": 0,
              "ticks": ""
             }
            },
            "marker": {
             "colorbar": {
              "outlinewidth": 0,
              "ticks": ""
             }
            },
            "type": "scatter3d"
           }
          ],
          "scattercarpet": [
           {
            "marker": {
             "colorbar": {
              "outlinewidth": 0,
              "ticks": ""
             }
            },
            "type": "scattercarpet"
           }
          ],
          "scattergeo": [
           {
            "marker": {
             "colorbar": {
              "outlinewidth": 0,
              "ticks": ""
             }
            },
            "type": "scattergeo"
           }
          ],
          "scattergl": [
           {
            "marker": {
             "colorbar": {
              "outlinewidth": 0,
              "ticks": ""
             }
            },
            "type": "scattergl"
           }
          ],
          "scattermap": [
           {
            "marker": {
             "colorbar": {
              "outlinewidth": 0,
              "ticks": ""
             }
            },
            "type": "scattermap"
           }
          ],
          "scattermapbox": [
           {
            "marker": {
             "colorbar": {
              "outlinewidth": 0,
              "ticks": ""
             }
            },
            "type": "scattermapbox"
           }
          ],
          "scatterpolar": [
           {
            "marker": {
             "colorbar": {
              "outlinewidth": 0,
              "ticks": ""
             }
            },
            "type": "scatterpolar"
           }
          ],
          "scatterpolargl": [
           {
            "marker": {
             "colorbar": {
              "outlinewidth": 0,
              "ticks": ""
             }
            },
            "type": "scatterpolargl"
           }
          ],
          "scatterternary": [
           {
            "marker": {
             "colorbar": {
              "outlinewidth": 0,
              "ticks": ""
             }
            },
            "type": "scatterternary"
           }
          ],
          "surface": [
           {
            "colorbar": {
             "outlinewidth": 0,
             "ticks": ""
            },
            "colorscale": [
             [
              0,
              "#0d0887"
             ],
             [
              0.1111111111111111,
              "#46039f"
             ],
             [
              0.2222222222222222,
              "#7201a8"
             ],
             [
              0.3333333333333333,
              "#9c179e"
             ],
             [
              0.4444444444444444,
              "#bd3786"
             ],
             [
              0.5555555555555556,
              "#d8576b"
             ],
             [
              0.6666666666666666,
              "#ed7953"
             ],
             [
              0.7777777777777778,
              "#fb9f3a"
             ],
             [
              0.8888888888888888,
              "#fdca26"
             ],
             [
              1,
              "#f0f921"
             ]
            ],
            "type": "surface"
           }
          ],
          "table": [
           {
            "cells": {
             "fill": {
              "color": "#EBF0F8"
             },
             "line": {
              "color": "white"
             }
            },
            "header": {
             "fill": {
              "color": "#C8D4E3"
             },
             "line": {
              "color": "white"
             }
            },
            "type": "table"
           }
          ]
         },
         "layout": {
          "annotationdefaults": {
           "arrowcolor": "#2a3f5f",
           "arrowhead": 0,
           "arrowwidth": 1
          },
          "autotypenumbers": "strict",
          "coloraxis": {
           "colorbar": {
            "outlinewidth": 0,
            "ticks": ""
           }
          },
          "colorscale": {
           "diverging": [
            [
             0,
             "#8e0152"
            ],
            [
             0.1,
             "#c51b7d"
            ],
            [
             0.2,
             "#de77ae"
            ],
            [
             0.3,
             "#f1b6da"
            ],
            [
             0.4,
             "#fde0ef"
            ],
            [
             0.5,
             "#f7f7f7"
            ],
            [
             0.6,
             "#e6f5d0"
            ],
            [
             0.7,
             "#b8e186"
            ],
            [
             0.8,
             "#7fbc41"
            ],
            [
             0.9,
             "#4d9221"
            ],
            [
             1,
             "#276419"
            ]
           ],
           "sequential": [
            [
             0,
             "#0d0887"
            ],
            [
             0.1111111111111111,
             "#46039f"
            ],
            [
             0.2222222222222222,
             "#7201a8"
            ],
            [
             0.3333333333333333,
             "#9c179e"
            ],
            [
             0.4444444444444444,
             "#bd3786"
            ],
            [
             0.5555555555555556,
             "#d8576b"
            ],
            [
             0.6666666666666666,
             "#ed7953"
            ],
            [
             0.7777777777777778,
             "#fb9f3a"
            ],
            [
             0.8888888888888888,
             "#fdca26"
            ],
            [
             1,
             "#f0f921"
            ]
           ],
           "sequentialminus": [
            [
             0,
             "#0d0887"
            ],
            [
             0.1111111111111111,
             "#46039f"
            ],
            [
             0.2222222222222222,
             "#7201a8"
            ],
            [
             0.3333333333333333,
             "#9c179e"
            ],
            [
             0.4444444444444444,
             "#bd3786"
            ],
            [
             0.5555555555555556,
             "#d8576b"
            ],
            [
             0.6666666666666666,
             "#ed7953"
            ],
            [
             0.7777777777777778,
             "#fb9f3a"
            ],
            [
             0.8888888888888888,
             "#fdca26"
            ],
            [
             1,
             "#f0f921"
            ]
           ]
          },
          "colorway": [
           "#636efa",
           "#EF553B",
           "#00cc96",
           "#ab63fa",
           "#FFA15A",
           "#19d3f3",
           "#FF6692",
           "#B6E880",
           "#FF97FF",
           "#FECB52"
          ],
          "font": {
           "color": "#2a3f5f"
          },
          "geo": {
           "bgcolor": "white",
           "lakecolor": "white",
           "landcolor": "#E5ECF6",
           "showlakes": true,
           "showland": true,
           "subunitcolor": "white"
          },
          "hoverlabel": {
           "align": "left"
          },
          "hovermode": "closest",
          "mapbox": {
           "style": "light"
          },
          "paper_bgcolor": "white",
          "plot_bgcolor": "#E5ECF6",
          "polar": {
           "angularaxis": {
            "gridcolor": "white",
            "linecolor": "white",
            "ticks": ""
           },
           "bgcolor": "#E5ECF6",
           "radialaxis": {
            "gridcolor": "white",
            "linecolor": "white",
            "ticks": ""
           }
          },
          "scene": {
           "xaxis": {
            "backgroundcolor": "#E5ECF6",
            "gridcolor": "white",
            "gridwidth": 2,
            "linecolor": "white",
            "showbackground": true,
            "ticks": "",
            "zerolinecolor": "white"
           },
           "yaxis": {
            "backgroundcolor": "#E5ECF6",
            "gridcolor": "white",
            "gridwidth": 2,
            "linecolor": "white",
            "showbackground": true,
            "ticks": "",
            "zerolinecolor": "white"
           },
           "zaxis": {
            "backgroundcolor": "#E5ECF6",
            "gridcolor": "white",
            "gridwidth": 2,
            "linecolor": "white",
            "showbackground": true,
            "ticks": "",
            "zerolinecolor": "white"
           }
          },
          "shapedefaults": {
           "line": {
            "color": "#2a3f5f"
           }
          },
          "ternary": {
           "aaxis": {
            "gridcolor": "white",
            "linecolor": "white",
            "ticks": ""
           },
           "baxis": {
            "gridcolor": "white",
            "linecolor": "white",
            "ticks": ""
           },
           "bgcolor": "#E5ECF6",
           "caxis": {
            "gridcolor": "white",
            "linecolor": "white",
            "ticks": ""
           }
          },
          "title": {
           "x": 0.05
          },
          "xaxis": {
           "automargin": true,
           "gridcolor": "white",
           "linecolor": "white",
           "ticks": "",
           "title": {
            "standoff": 15
           },
           "zerolinecolor": "white",
           "zerolinewidth": 2
          },
          "yaxis": {
           "automargin": true,
           "gridcolor": "white",
           "linecolor": "white",
           "ticks": "",
           "title": {
            "standoff": 15
           },
           "zerolinecolor": "white",
           "zerolinewidth": 2
          }
         }
        },
        "title": {
         "text": "3D PCA Visualization"
        }
       }
      }
     },
     "metadata": {},
     "output_type": "display_data"
    }
   ],
   "source": [
    "import random\n",
    "import plotly.express as px\n",
    "\n",
    "# Вибираємо випадкову вибірку з 25 слів для візуалізації\n",
    "words_sample = random.sample(words, 25)\n",
    "df_sample = df_pca.loc[words_sample]\n",
    "\n",
    "# Візуалізація (необов'язково)\n",
    "\n",
    "fig = px.scatter_3d(\n",
    "    df_sample,\n",
    "    x='x',\n",
    "    y='y',\n",
    "    z='z',\n",
    "    text=df_sample.index,  # показати назви країн/слів\n",
    "    title='3D PCA Visualization'\n",
    ")\n",
    "\n",
    "fig.update_traces(marker=dict(size=3), textposition='top center')\n",
    "fig.show()"
   ]
  },
  {
   "cell_type": "code",
   "execution_count": 41,
   "id": "a398f5f2",
   "metadata": {},
   "outputs": [
    {
     "name": "stdout",
     "output_type": "stream",
     "text": [
      "--- Перевірка довільних векторів координат ---\n",
      "--------------------------------------------------\n",
      "Для вектора [0.00, 0.00, 0.00]   найближчим є слово: 'None'\n",
      "Для вектора [0.92, 0.40, 0.36]   найближчим є слово: 'Cyprus'\n",
      "Для вектора [-0.50, 0.50, -0.50] найближчим є слово: 'Kathmandu'\n",
      "Для вектора [2.00, 0.00, 0.00]   найближчим є слово: 'Denmark'\n",
      "Для вектора [-2.00, 0.00, 0.00]  найближчим є слово: 'Tunis'\n",
      "Для вектора [0.00, 2.00, 0.00]   найближчим є слово: 'Belgrade'\n",
      "Для вектора [0.00, -2.00, 0.00]  найближчим є слово: 'Senegal'\n",
      "--------------------------------------------------\n"
     ]
    }
   ],
   "source": [
    "### Перевірка довільних векторів координат\n",
    "test_vectors = [\n",
    "    [0, 0, 0],\n",
    "    [0.92, 0.4, 0.365],\n",
    "    [-0.5, 0.5, -0.5],\n",
    "    [2, 0, 0],\n",
    "    [-2, 0, 0],\n",
    "    [0, 2, 0],\n",
    "    [0, -2, 0]\n",
    "]\n",
    "\n",
    "print(\"--- Перевірка довільних векторів координат ---\")\n",
    "print(\"-\" * 50)\n",
    "\n",
    "for i, vector in enumerate(test_vectors):\n",
    "    # Знаходимо найближче слово для поточного вектора\n",
    "    # Пошук ведемо по всьому відібраному DataFrame df_sample\n",
    "    closest_word = find_closest_word_cosine(vector, df_sample)\n",
    "\n",
    "    vector_str = f\"[{vector[0]:.2f}, {vector[1]:.2f}, {vector[2]:.2f}]\"\n",
    "    print(f\"Для вектора {vector_str:<20} найближчим є слово: '{closest_word}'\")\n",
    "\n",
    "print(\"-\" * 50)"
   ]
  },
  {
   "cell_type": "markdown",
   "id": "874e4c12",
   "metadata": {},
   "source": [
    "## 3. Векторний добуток"
   ]
  },
  {
   "cell_type": "code",
   "execution_count": 44,
   "id": "bdd62e68",
   "metadata": {},
   "outputs": [
    {
     "name": "stdout",
     "output_type": "stream",
     "text": [
      "Загальна кількість слів для аналізу: 243\n",
      "\n",
      "Знайдено 230 власних назв (напр., країни, міста).\n",
      "Знайдено 13 загальних слів.\n",
      "\n",
      "--------------------------------------------------\n",
      "10 випадково згенерованих пар (власна назва, загальне слово):\n",
      "  - Kabul, king\n",
      "  - Rome, sad\n",
      "  - Bangkok, oil\n",
      "  - Eritrea, gas\n",
      "  - Athens, gas\n",
      "  - Managua, queen\n",
      "  - England, sad\n",
      "  - Vienna, oil\n",
      "  - Belarus, continent\n",
      "  - Georgia, queen\n"
     ]
    }
   ],
   "source": [
    "### Генерація випадкових пар слів\n",
    "print(f\"Загальна кількість слів для аналізу: {len(words)}\\n\")\n",
    "\n",
    "proper_nouns = []\n",
    "common_words = []\n",
    "\n",
    "for word in words:\n",
    "    # Перевіряємо, чи слово не порожнє і чи починається з великої літери\n",
    "    if word and word[0].isupper():\n",
    "        proper_nouns.append(word)\n",
    "    else:\n",
    "        common_words.append(word)\n",
    "\n",
    "print(f\"Знайдено {len(proper_nouns)} власних назв (напр., країни, міста).\")\n",
    "print(f\"Знайдено {len(common_words)} загальних слів.\\n\")\n",
    "print(\"-\" * 50)\n",
    "\n",
    "random_pairs = []\n",
    "\n",
    "# Генеруємо 10 пар\n",
    "for _ in range(10):\n",
    "    # Вибираємо по одному випадковому слову з кожного списку\n",
    "    random_proper = random.choice(proper_nouns)\n",
    "    random_common = random.choice(common_words)\n",
    "    random_pairs.append((random_proper, random_common))\n",
    "\n",
    "# Виводимо результат\n",
    "print(\"10 випадково згенерованих пар (власна назва, загальне слово):\")\n",
    "for pair in random_pairs:\n",
    "    print(f\"  - {pair[0]}, {pair[1]}\")"
   ]
  },
  {
   "cell_type": "code",
   "execution_count": 45,
   "id": "7fb33417",
   "metadata": {},
   "outputs": [
    {
     "name": "stdout",
     "output_type": "stream",
     "text": [
      "\n",
      "--- Обчислення векторного добутку для пошуку ортогонального слова ---\n",
      "------------------------------------------------------------\n",
      "Векторний добуток 'Kabul' та 'king' -> знаходить слово: 'Liberia'\n",
      "\n",
      "Векторний добуток 'Rome' та 'sad' -> знаходить слово: 'Monrovia'\n",
      "\n",
      "Векторний добуток 'Bangkok' та 'oil' -> знаходить слово: 'Liberia'\n",
      "\n",
      "Векторний добуток 'Eritrea' та 'gas' -> знаходить слово: 'Armenia'\n",
      "\n",
      "Векторний добуток 'Athens' та 'gas' -> знаходить слово: 'Belmopan'\n",
      "\n",
      "Векторний добуток 'Managua' та 'queen' -> знаходить слово: 'Liberia'\n",
      "\n",
      "Векторний добуток 'England' та 'sad' -> знаходить слово: 'Stockholm'\n",
      "\n",
      "Векторний добуток 'Vienna' та 'oil' -> знаходить слово: 'Belmopan'\n",
      "\n",
      "Векторний добуток 'Belarus' та 'continent' -> знаходить слово: 'gas'\n",
      "\n",
      "Векторний добуток 'Georgia' та 'queen' -> знаходить слово: 'Damascus'\n",
      "\n",
      "------------------------------------------------------------\n"
     ]
    }
   ],
   "source": [
    "print(\"\\n--- Обчислення векторного добутку для пошуку ортогонального слова ---\")\n",
    "print(\"-\" * 60)\n",
    "\n",
    "for pair in random_pairs:\n",
    "    word1, word2 = pair\n",
    "\n",
    "    if word1 in df_pca.index and word2 in df_pca.index:\n",
    "        # Отримуємо вектори\n",
    "        vec1 = df_pca.loc[word1].values\n",
    "        vec2 = df_pca.loc[word2].values\n",
    "        \n",
    "        # Обчислюємо векторний добуток\n",
    "        cross_vector = np.cross(vec1, vec2)\n",
    "        \n",
    "        # Знаходимо найближче слово до результату\n",
    "        orthogonal_word = find_closest_word_cosine(cross_vector, df_pca)\n",
    "        \n",
    "        print(f\"Векторний добуток '{word1}' та '{word2}' -> знаходить слово: '{orthogonal_word}'\\n\")\n",
    "    else:\n",
    "        print(f\"Пара '{word1}'-'{word2}' не може бути оброблена: одне зі слів відсутнє в даних.\\n\")\n",
    "\n",
    "print(\"-\" * 60)"
   ]
  },
  {
   "cell_type": "markdown",
   "id": "6a0cdadd",
   "metadata": {},
   "source": [
    "Висновки.\n",
    "\n",
    "Проведені експерименти демонструють, що векторна арифметика є потужним інструментом для дослідження семантичних зв'язків між словами, \"закодованих\" у моделі word embeddings. Навіть якщо арифметичні операції з векторами не демонструють інтуїтивно зрозуміли результати, все одно це - потужний інструмент для досліджень складних, прихованих зв'язків. \n",
    "\n",
    "Операція пошуку ортогонального слова є найбільш абстрактною, так як показує напрямок максимально незалежний до семантичної площини, яку створюють два вектори, наприклад, ('Georgia', 'queen') та 'Damascus'. Ортогональний вектор не вказує на якусь легко вгадувану \"третю\" концепцію.\n",
    "\n",
    "Найбільш разючий висновок полягає в тому, що майже всі результати є власними назвами (країнами або містами). Навіть коли ми поєднуємо країну з емоцією ('Rome' та 'sad'), результат все одно є географічним об'єктом ('Monrovia'). Коли ми обчислюємо векторний добуток, ми знаходимо новий напрямок, перпендикулярний до площини перших двох слів. Але оскільки весь простір \"заселений\" переважно країнами та містами, найближчою \"точкою\" до кінця цього нового вектора майже завжди виявляється інша країна чи місто.\n"
   ]
  },
  {
   "cell_type": "markdown",
   "id": "3dc6a919",
   "metadata": {},
   "source": [
    "## 4. Кут між словами"
   ]
  },
  {
   "cell_type": "code",
   "execution_count": 47,
   "id": "b93bd809",
   "metadata": {},
   "outputs": [
    {
     "name": "stdout",
     "output_type": "stream",
     "text": [
      "--- Обчислення кута між словами ---\n",
      "--------------------------------------------------\n",
      "Кут між 'Skopje' та 'Vienna': 44.73°\n",
      "Кут між 'Burundi' та 'Tbilisi': 108.18°\n",
      "Кут між 'Bujumbura' та 'Rabat': 41.45°\n",
      "Кут між 'village' та 'Bamako': 123.67°\n",
      "Кут між 'Baghdad' та 'Honduras': 142.80°\n",
      "Кут між 'Fiji' та 'Eritrea': 66.03°\n",
      "Кут між 'oil' та 'Zimbabwe': 83.61°\n",
      "Кут між 'Tirana' та 'Mauritania': 121.52°\n",
      "Кут між 'Monrovia' та 'Skopje': 121.56°\n",
      "Кут між 'London' та 'Dominica': 89.78°\n",
      "--------------------------------------------------\n"
     ]
    }
   ],
   "source": [
    "def angle_between_words(word1, word2, df):\n",
    "    \"\"\"\n",
    "    Обчислює кут (у градусах) між векторами двох слів.\n",
    "\n",
    "    Аргументи:\n",
    "    word1 (str): Перше слово.\n",
    "    word2 (str): Друге слово.\n",
    "    df (pd.DataFrame): DataFrame з векторами слів (індекс - слова).\n",
    "\n",
    "    Повертає:\n",
    "    float: Кут між векторами у градусах, або None, якщо одне зі слів відсутнє.\n",
    "    \"\"\"\n",
    "    # Перевіряємо, чи обидва слова є в DataFrame\n",
    "    if word1 not in df.index or word2 not in df.index:\n",
    "        return None\n",
    "\n",
    "    vec1 = df.loc[word1].values\n",
    "    vec2 = df.loc[word2].values\n",
    "\n",
    "    # Обчислюємо косинусну подібність (cos θ)\n",
    "    cosine_similarity = np.dot(vec1, vec2) / (norm(vec1) * norm(vec2))\n",
    "\n",
    "    # np.clip гарантує, що значення буде в межах [-1, 1] для уникнення помилок обчислень\n",
    "    angle_in_radians = np.arccos(np.clip(cosine_similarity, -1.0, 1.0))\n",
    "    angle_in_degrees = np.degrees(angle_in_radians)\n",
    "\n",
    "    return angle_in_degrees\n",
    "\n",
    "print(\"--- Обчислення кута між словами ---\")\n",
    "print(\"-\" * 50)\n",
    "\n",
    "num_pairs = 10\n",
    "random_word_pairs = []\n",
    "for _ in range(num_pairs):\n",
    "    word1, word2 = random.sample(words, 2)\n",
    "    random_word_pairs.append((word1, word2))\n",
    "\n",
    "for word1, word2 in random_word_pairs:\n",
    "    angle = angle_between_words(word1, word2, df_pca)\n",
    "    if angle is not None:\n",
    "        print(f\"Кут між '{word1}' та '{word2}': {angle:.2f}°\")\n",
    "    else:\n",
    "        print(f\"Не вдалося обчислити кут для '{word1}' та '{word2}' (слово відсутнє).\")\n",
    "\n",
    "print(\"-\" * 50)"
   ]
  },
  {
   "cell_type": "markdown",
   "id": "616cd405",
   "metadata": {},
   "source": [
    "Висновки.\n",
    "\n",
    "Аналіз кутів підтверджує, що модель здатна відтворювати очевидні зв'язки, але також можливо виявляти приховані подібності, наприклад соціальні.\n",
    "\n",
    "1) Схожі та пов'язані поняття (Малий кут < 45°)\n",
    "\n",
    "\"Африканська столиця\": 'Bujumbura' та 'Rabat' (41.45°).\n",
    "\n",
    "\"Європейські столиці\": 'Skopje' та 'Vienna' (44.73°).\n",
    "\n",
    "2) Семантично незалежні слова (Кут ≈ 90°)\n",
    "\n",
    "'London' та 'Dominica' (89.78°): Глобальний мегаполіс та мала острівна держава.\n",
    "\n",
    "'oil' та 'Zimbabwe' (83.61°): Зімбабве не є великим виробником нафти.\n",
    "\n",
    "3) Протижлежні поняття (Великий кут > 100°)\n",
    "\n",
    "'village' та 'Bamako' (123.67°): Загальне поняття \"село\" протилежне конкретній великій столиці \"Бамако\".\n",
    "\n",
    "'Baghdad' та 'Honduras' (142.80°): Аналогічно, максимальна віддаленість.\n"
   ]
  }
 ],
 "metadata": {
  "kernelspec": {
   "display_name": ".myenv071025 (3.11.9)",
   "language": "python",
   "name": "python3"
  },
  "language_info": {
   "codemirror_mode": {
    "name": "ipython",
    "version": 3
   },
   "file_extension": ".py",
   "mimetype": "text/x-python",
   "name": "python",
   "nbconvert_exporter": "python",
   "pygments_lexer": "ipython3",
   "version": "3.11.9"
  }
 },
 "nbformat": 4,
 "nbformat_minor": 5
}
