{
 "cells": [
  {
   "cell_type": "markdown",
   "id": "4ad14ec3",
   "metadata": {},
   "source": [
    "### Домашнє завдання 5"
   ]
  },
  {
   "cell_type": "markdown",
   "id": "acf84b69",
   "metadata": {},
   "source": [
    "#### 1. Генерування даних"
   ]
  },
  {
   "cell_type": "code",
   "execution_count": 56,
   "id": "8856d18f",
   "metadata": {},
   "outputs": [
    {
     "name": "stdout",
     "output_type": "stream",
     "text": [
      "Розмірність X: (100, 2)\n",
      "Розмірність y: (100,)\n"
     ]
    }
   ],
   "source": [
    "import numpy as np\n",
    "import matplotlib.pyplot as plt\n",
    "from sklearn.preprocessing import PolynomialFeatures\n",
    "from sklearn.preprocessing import StandardScaler\n",
    "from sklearn.model_selection import train_test_split\n",
    "from sklearn.metrics import mean_squared_error\n",
    "import time\n",
    "import pandas as pd\n",
    "\n",
    "np.random.seed(12345)\n",
    "\n",
    "X = np.random.rand(100, 2)\n",
    "x1 = X[:, 0]\n",
    "x2 = X[:, 1]\n",
    "\n",
    "def polynomial_function(x1, x2):\n",
    "    return (4 * x1**2 + 5 * x2**2 - 2 * x1 * x2 + 3 * x1 - 6 * x2)\n",
    "\n",
    "y = polynomial_function(x1, x2)\n",
    "\n",
    "print(f\"Розмірність X: {X.shape}\")\n",
    "print(f\"Розмірність y: {y.shape}\")\n"
   ]
  },
  {
   "cell_type": "markdown",
   "id": "de0cf0f6",
   "metadata": {},
   "source": [
    "#### 2. Додаткові ознаки"
   ]
  },
  {
   "cell_type": "code",
   "execution_count": 57,
   "id": "51dd0e4f",
   "metadata": {},
   "outputs": [
    {
     "name": "stdout",
     "output_type": "stream",
     "text": [
      "Розмірність X_poly (з поліномом): (100, 6)\n"
     ]
    }
   ],
   "source": [
    "# Поліноміальні ознаки. \n",
    "# include_bias=True додає стовпець одиниць (для вільного члена theta_0)\n",
    "poly_features = PolynomialFeatures(degree=2, include_bias=True)\n",
    "X_poly = poly_features.fit_transform(X)\n",
    "\n",
    "print(f\"Розмірність X_poly (з поліномом): {X_poly.shape}\")\n"
   ]
  },
  {
   "cell_type": "markdown",
   "id": "11dd0e33",
   "metadata": {},
   "source": [
    "#### 3. Функції для методів градієнтного спуску"
   ]
  },
  {
   "cell_type": "code",
   "execution_count": 58,
   "id": "dde4c979",
   "metadata": {},
   "outputs": [
    {
     "name": "stdout",
     "output_type": "stream",
     "text": [
      "\n",
      "--- Вимірювання часу роботи (через %timeit) ---\n",
      "Batch GD:\n",
      "3.27 ms ± 113 μs per loop (mean ± std. dev. of 7 runs, 100 loops each)\n",
      "\n",
      "SGD (10 епох):\n",
      "4.57 ms ± 206 μs per loop (mean ± std. dev. of 7 runs, 100 loops each)\n",
      "\n",
      "RMSProp (10 епох):\n",
      "6.23 ms ± 284 μs per loop (mean ± std. dev. of 7 runs, 100 loops each)\n",
      "\n",
      "Adam (10 епох):\n",
      "14.5 ms ± 372 μs per loop (mean ± std. dev. of 7 runs, 100 loops each)\n",
      "\n",
      "Nadam (10 епох):\n",
      "24.9 ms ± 1.8 ms per loop (mean ± std. dev. of 7 runs, 100 loops each)\n"
     ]
    }
   ],
   "source": [
    "def gradient_descent(X, y, lr=0.01, n_iter=1000):\n",
    "    m, n = X.shape\n",
    "    theta = np.zeros(n)\n",
    "    for _ in range(n_iter):\n",
    "        grad = X.T.dot(X.dot(theta) - y) / m\n",
    "        theta -= lr * grad\n",
    "    return theta\n",
    "\n",
    "def stochastic_gradient_descent(X, y, lr=0.01, n_iter=1000):\n",
    "    m, n = X.shape\n",
    "    theta = np.zeros(n)\n",
    "    # n_iter тут - це кількість ЕПОХ\n",
    "    for epoch in range(n_iter):\n",
    "        for i in range(m):\n",
    "            idx = np.random.randint(m)\n",
    "            xi = X[idx:idx+1]\n",
    "            yi = y[idx]\n",
    "            grad = xi.T.dot(xi.dot(theta) - yi)\n",
    "            theta -= lr * grad\n",
    "    return theta\n",
    "\n",
    "def rmsprop(X, y, lr=0.01, n_iter=1000, decay=0.9, eps=1e-8):\n",
    "    m, n = X.shape\n",
    "    theta = np.zeros(n)\n",
    "    cache = np.zeros(n)\n",
    "    # n_iter тут - це кількість ЕПОХ\n",
    "    for epoch in range(n_iter):\n",
    "        for i in range(m):\n",
    "            xi = X[i:i+1]\n",
    "            yi = y[i]\n",
    "            grad = xi.T.dot(xi.dot(theta) - yi)\n",
    "            cache = decay * cache + (1 - decay) * grad**2\n",
    "            theta -= lr * grad / (np.sqrt(cache) + eps)\n",
    "    return theta\n",
    "\n",
    "def adam(X, y, lr=0.01, n_iter=1000, beta1=0.9, beta2=0.999, eps=1e-8):\n",
    "    m, n = X.shape\n",
    "    theta = np.zeros(n)\n",
    "    m_t = np.zeros(n)\n",
    "    v_t = np.zeros(n)\n",
    "    t = 0\n",
    "    # n_iter тут - це кількість ЕПОХ\n",
    "    for epoch in range(n_iter):\n",
    "        for i in range(m):\n",
    "            t += 1\n",
    "            xi = X[i:i+1]\n",
    "            yi = y[i]\n",
    "            grad = xi.T.dot(xi.dot(theta) - yi)\n",
    "            m_t = beta1 * m_t + (1 - beta1) * grad\n",
    "            v_t = beta2 * v_t + (1 - beta2) * grad**2\n",
    "            m_hat = m_t / (1 - beta1**t)\n",
    "            v_hat = v_t / (1 - beta2**t)\n",
    "            theta -= lr * m_hat / (np.sqrt(v_hat) + eps)\n",
    "    return theta\n",
    "\n",
    "def nadam(X, y, lr=0.01, n_iter=1000, beta1=0.9, beta2=0.999, eps=1e-8):\n",
    "    m, n = X.shape\n",
    "    theta = np.zeros(n)\n",
    "    m_t = np.zeros(n)\n",
    "    v_t = np.zeros(n)\n",
    "    t = 0\n",
    "    # n_iter тут - це кількість ЕПОХ\n",
    "    for epoch in range(n_iter):\n",
    "        for i in range(m):\n",
    "            t += 1\n",
    "            xi = X[i:i+1]\n",
    "            yi = y[i]\n",
    "            grad = xi.T.dot(xi.dot(theta) - yi)\n",
    "            m_t = beta1 * m_t + (1 - beta1) * grad\n",
    "            v_t = beta2 * v_t + (1 - beta2) * grad**2\n",
    "            m_hat = m_t / (1 - beta1**t)\n",
    "            v_hat = v_t / (1 - beta2**t)\n",
    "            # Nesterov momentum update\n",
    "            m_hat_nadam = beta1 * m_hat + (1 - beta1) * grad / (1 - beta1**t)\n",
    "            theta -= lr * m_hat_nadam / (np.sqrt(v_hat) + eps)\n",
    "    return theta\n",
    "\n",
    "# Встановлюємо параметри для timeit\n",
    "# n_iter для GD - це ітерації\n",
    "# n_iter для інших - це ЕПОХИ\n",
    "print(\"\\n--- Вимірювання часу роботи (через %timeit) ---\")\n",
    "\n",
    "n_iter_batch = 1000\n",
    "n_iter_epochs = 10 # 10 епох * 100 зразків = 1000 оновлень\n",
    "\n",
    "print(\"Batch GD:\")\n",
    "%timeit gradient_descent(X_poly, y, n_iter=n_iter_batch)\n",
    "\n",
    "print(\"\\nSGD (10 епох):\")\n",
    "%timeit stochastic_gradient_descent(X_poly, y, n_iter=n_iter_epochs)\n",
    "\n",
    "print(\"\\nRMSProp (10 епох):\")\n",
    "%timeit rmsprop(X_poly, y, n_iter=n_iter_epochs)\n",
    "\n",
    "print(\"\\nAdam (10 епох):\")\n",
    "%timeit adam(X_poly, y, n_iter=n_iter_epochs)\n",
    "\n",
    "print(\"\\nNadam (10 епох):\")\n",
    "%timeit nadam(X_poly, y, n_iter=n_iter_epochs)"
   ]
  },
  {
   "cell_type": "markdown",
   "id": "37cfc71e",
   "metadata": {},
   "source": [
    "#### 4. Розрахунок MSE"
   ]
  },
  {
   "cell_type": "code",
   "execution_count": 59,
   "id": "2509aee3",
   "metadata": {},
   "outputs": [
    {
     "name": "stdout",
     "output_type": "stream",
     "text": [
      "Розмірність X_poly_scaled (для навчання): (100, 6)\n"
     ]
    }
   ],
   "source": [
    "# Масштабуємо оригінальні дані X\n",
    "scaler = StandardScaler()\n",
    "X_scaled = scaler.fit_transform(X)\n",
    "\n",
    "# Генеруємо поліноміальні ознаки з МАСШТАБОВАНИХ даних\n",
    "# Ми будемо тренувати модель саме на цих даних\n",
    "poly_features_scaled = PolynomialFeatures(degree=2, include_bias=True)\n",
    "X_poly_scaled = poly_features_scaled.fit_transform(X_scaled)\n",
    "\n",
    "print(f\"Розмірність X_poly_scaled (для навчання): {X_poly_scaled.shape}\") \n",
    "\n",
    "# Розділяємо поліноміальні масштабовані дані на тренувальні та тестові\n",
    "X_train, X_test, y_train, y_test = train_test_split(X_poly_scaled, y, test_size=0.2, random_state=42)"
   ]
  },
  {
   "cell_type": "code",
   "execution_count": 60,
   "id": "96238cb6",
   "metadata": {},
   "outputs": [
    {
     "name": "stdout",
     "output_type": "stream",
     "text": [
      "Тренуємо GD...\n",
      "Тренуємо SGD...\n",
      "Тренуємо RMSProp...\n",
      "Тренуємо Adam...\n",
      "Тренуємо Nadam...\n",
      "\n",
      "--- ФІНАЛЬНІ РЕЗУЛЬТАТИ ---\n",
      "         time (s)       mse theta_shape\n",
      "GD       0.006151  0.000012        (6,)\n",
      "SGD      0.026123       0.0        (6,)\n",
      "RMSProp   0.03722  0.000835        (6,)\n",
      "Adam     0.059362       0.0        (6,)\n",
      "Nadam    0.084658       0.0        (6,)\n",
      "\n",
      "Знайдені коефіцієнти (theta):\n",
      "\n",
      "GD:\n",
      " [ 0.50388737  1.87587908 -0.57387259  0.35175775 -0.16904587  0.41431581]\n",
      "\n",
      "SGD:\n",
      " [ 0.51062612  1.87614304 -0.5741771   0.34994337 -0.16961481  0.41106174]\n",
      "\n",
      "RMSProp:\n",
      " [ 0.52989735  1.86186618 -0.58729102  0.34330464 -0.19394899  0.41438789]\n",
      "\n",
      "Adam:\n",
      " [ 0.51063189  1.87614244 -0.57417677  0.34994065 -0.16961516  0.41105972]\n",
      "\n",
      "Nadam:\n",
      " [ 0.51063189  1.87614244 -0.57417677  0.34994065 -0.16961516  0.41105972]\n"
     ]
    }
   ],
   "source": [
    "common_lr = 0.01\n",
    "n_iter_batch = 1000 # Ітерації для GD\n",
    "n_iter_epochs = 50   # Епохи для стохастичних\n",
    "\n",
    "methods = {\n",
    "    \"GD\": (gradient_descent, n_iter_batch, common_lr),\n",
    "    \"SGD\": (stochastic_gradient_descent, n_iter_epochs, common_lr),\n",
    "    \"RMSProp\": (rmsprop, n_iter_epochs, common_lr),\n",
    "    \"Adam\": (adam, n_iter_epochs, common_lr),\n",
    "    \"Nadam\": (nadam, n_iter_epochs, common_lr)\n",
    "}\n",
    "\n",
    "timing_results = {}\n",
    "\n",
    "for name, (method, n_iter, lr) in methods.items():\n",
    "    print(f\"Тренуємо {name}...\")\n",
    "    start_time = time.time()\n",
    "    \n",
    "    # Тренуємо на X_train\n",
    "    theta = method(X_train, y_train, lr=lr, n_iter=n_iter)\n",
    "    \n",
    "    elapsed_time = time.time() - start_time\n",
    "    \n",
    "    # Прогнозуємо на X_test\n",
    "    y_pred = X_test.dot(theta)\n",
    "    \n",
    "    # Розраховуємо MSE\n",
    "    mse = mean_squared_error(y_test, y_pred)\n",
    "    \n",
    "    timing_results[name] = {\n",
    "        \"time (s)\": elapsed_time,\n",
    "        \"mse\": mse,\n",
    "        \"theta_shape\": theta.shape,\n",
    "        \"final_theta\": theta\n",
    "    }\n",
    "\n",
    "results_df = pd.DataFrame(timing_results).T\n",
    "results_df = results_df.astype({'theta_shape': str})\n",
    "\n",
    "print(\"\\n--- ФІНАЛЬНІ РЕЗУЛЬТАТИ ---\")\n",
    "print(results_df[['time (s)', 'mse', 'theta_shape']])\n",
    "\n",
    "print(\"\\nЗнайдені коефіцієнти (theta):\")\n",
    "for name, result in timing_results.items():\n",
    "    print(f\"\\n{name}:\\n {result['final_theta']}\")"
   ]
  },
  {
   "cell_type": "markdown",
   "id": "b325aef3",
   "metadata": {},
   "source": [
    "#### 5. Підбір ітерацій для методів"
   ]
  },
  {
   "cell_type": "markdown",
   "id": "96e0a42e",
   "metadata": {},
   "source": [
    "Оптімальна кількість ітерацій - це мінімально необхідна кількість, після якої модель перестає суттєво покращуватись. Щоб зробити висновки по оптимуму - побудуємо графік залежності помилки від кількості ітерацій. За ним зрозуміємо, як поводила себе модель з часом."
   ]
  },
  {
   "cell_type": "code",
   "execution_count": 65,
   "id": "38bd0e9e",
   "metadata": {},
   "outputs": [],
   "source": [
    "# --- Функції з історією MSE ---\n",
    "\n",
    "def mse(X, y, theta):\n",
    "    return np.mean((X.dot(theta) - y)**2)\n",
    "\n",
    "def gradient_descent_history(X, y, lr=0.01, n_iter=1000):\n",
    "    m, n = X.shape\n",
    "    theta = np.zeros(n)\n",
    "    history = []\n",
    "    for i in range(n_iter):\n",
    "        grad = X.T.dot(X.dot(theta) - y) / m\n",
    "        theta -= lr * grad\n",
    "        history.append(mse(X, y, theta))\n",
    "    return theta, history\n",
    "\n",
    "def stochastic_gradient_descent_history(X, y, lr=0.01, n_iter=1000):\n",
    "    m, n = X.shape\n",
    "    theta = np.zeros(n)\n",
    "    history = []\n",
    "    for epoch in range(n_iter):\n",
    "        for i in range(m):\n",
    "            idx = np.random.randint(m)\n",
    "            xi = X[idx:idx+1]\n",
    "            yi = y[idx]\n",
    "            grad = xi.T.dot(xi.dot(theta) - yi)\n",
    "            theta -= lr * grad\n",
    "        history.append(mse(X, y, theta)) # Записуємо MSE в кінці кожної епохи\n",
    "    return theta, history\n",
    "\n",
    "def rmsprop_history(X, y, lr=0.01, n_iter=1000, decay=0.9, eps=1e-8):\n",
    "    m, n = X.shape\n",
    "    theta = np.zeros(n)\n",
    "    cache = np.zeros(n)\n",
    "    history = []\n",
    "    for epoch in range(n_iter):\n",
    "        for i in range(m):\n",
    "            xi = X[i:i+1]\n",
    "            yi = y[i]\n",
    "            grad = xi.T.dot(xi.dot(theta) - yi)\n",
    "            cache = decay * cache + (1 - decay) * grad**2\n",
    "            theta -= lr * grad / (np.sqrt(cache) + eps)\n",
    "        history.append(mse(X, y, theta))\n",
    "    return theta, history\n",
    "\n",
    "def adam_history(X, y, lr=0.01, n_iter=1000, beta1=0.9, beta2=0.999, eps=1e-8):\n",
    "    m, n = X.shape\n",
    "    theta = np.zeros(n)\n",
    "    m_t = np.zeros(n)\n",
    "    v_t = np.zeros(n)\n",
    "    t = 0\n",
    "    history = []\n",
    "    for epoch in range(n_iter):\n",
    "        for i in range(m):\n",
    "            t += 1\n",
    "            xi = X[i:i+1]\n",
    "            yi = y[i]\n",
    "            grad = xi.T.dot(xi.dot(theta) - yi)\n",
    "            m_t = beta1 * m_t + (1 - beta1) * grad\n",
    "            v_t = beta2 * v_t + (1 - beta2) * grad**2\n",
    "            m_hat = m_t / (1 - beta1**t)\n",
    "            v_hat = v_t / (1 - beta2**t)\n",
    "            theta -= lr * m_hat / (np.sqrt(v_hat) + eps)\n",
    "        history.append(mse(X, y, theta))\n",
    "    return theta, history\n",
    "\n",
    "def nadam_history(X, y, lr=0.01, n_iter=1000, beta1=0.9, beta2=0.999, eps=1e-8):\n",
    "    m, n = X.shape\n",
    "    theta = np.zeros(n)\n",
    "    m_t = np.zeros(n)\n",
    "    v_t = np.zeros(n)\n",
    "    t = 0\n",
    "    history = []\n",
    "    for epoch in range(n_iter):\n",
    "        for i in range(m):\n",
    "            t += 1\n",
    "            xi = X[i:i+1]\n",
    "            yi = y[i]\n",
    "            grad = xi.T.dot(xi.dot(theta) - yi)\n",
    "            m_t = beta1 * m_t + (1 - beta1) * grad\n",
    "            v_t = beta2 * v_t + (1 - beta2) * grad**2\n",
    "            m_hat = m_t / (1 - beta1**t)\n",
    "            v_hat = v_t / (1 - beta2**t)\n",
    "            m_hat_nadam = beta1 * m_hat + (1 - beta1) * grad / (1 - beta1**t)\n",
    "            theta -= lr * m_hat_nadam / (np.sqrt(v_hat) + eps)\n",
    "        history.append(mse(X, y, theta))\n",
    "    return theta, history"
   ]
  },
  {
   "cell_type": "code",
   "execution_count": 67,
   "id": "7ceabd1c",
   "metadata": {},
   "outputs": [
    {
     "name": "stdout",
     "output_type": "stream",
     "text": [
      "\n",
      "--- Запускаємо тренування для збору історії... ---\n",
      "Тренування завершено, будуємо графіки...\n"
     ]
    },
    {
     "data": {
      "image/png": "[encoded data removed]",
      "text/plain": [
       "<Figure size 1400x800 with 1 Axes>"
      ]
     },
     "metadata": {},
     "output_type": "display_data"
    }
   ],
   "source": [
    "# --- Побудова графіків навчання ---\n",
    "\n",
    "# Використовуємо масштабовані дані, які ми вже створили\n",
    "# (X_train, X_test, y_train, y_test)\n",
    "\n",
    "# Встановлюємо параметри\n",
    "lr = 0.01\n",
    "n_iter_gd = 1000    # GD - 1000 ітерацій\n",
    "n_epochs_sto = 200  # Стохастичні - 100 епох\n",
    "\n",
    "print(\"\\n--- Запускаємо тренування для збору історії... ---\")\n",
    "\n",
    "# Збираємо історію\n",
    "_, history_gd = gradient_descent_history(X_train, y_train, lr=lr, n_iter=n_iter_gd)\n",
    "_, history_sgd = stochastic_gradient_descent_history(X_train, y_train, lr=lr, n_iter=n_epochs_sto)\n",
    "_, history_rms = rmsprop_history(X_train, y_train, lr=lr, n_iter=n_epochs_sto)\n",
    "_, history_adam = adam_history(X_train, y_train, lr=lr, n_iter=n_epochs_sto)\n",
    "_, history_nadam = nadam_history(X_train, y_train, lr=lr, n_iter=n_epochs_sto)\n",
    "\n",
    "print(\"Тренування завершено, будуємо графіки...\")\n",
    "\n",
    "plt.figure(figsize=(14, 8))\n",
    "\n",
    "# Графік для Batch GD (в нього інша кількість ітерацій)\n",
    "plt.plot(range(n_iter_gd), history_gd, label=\"Batch GD\", linewidth=2)\n",
    "\n",
    "# Графіки для стохастичних методів (в них інша кількість епох)\n",
    "plt.plot(range(n_epochs_sto), history_sgd, label=\"SGD\", linestyle='--')\n",
    "plt.plot(range(n_epochs_sto), history_rms, label=\"RMSProp\")\n",
    "plt.plot(range(n_epochs_sto), history_adam, label=\"Adam\", linewidth=2)\n",
    "plt.plot(range(n_epochs_sto), history_nadam, label=\"Nadam\", linewidth=2, linestyle=':')\n",
    "\n",
    "plt.xlabel(\"Ітерації (для GD) / Епохи (для інших)\")\n",
    "plt.ylabel(\"MSE (на тренувальних даних)\")\n",
    "plt.title(\"Графіки навчання (Збіжність методів)\")\n",
    "\n",
    "# Логарифмічна шкала Y\n",
    "plt.yscale('log')\n",
    "plt.legend()\n",
    "plt.grid(True)\n",
    "plt.show()"
   ]
  },
  {
   "cell_type": "markdown",
   "id": "683339f0",
   "metadata": {},
   "source": [
    "#### Висновки"
   ]
  },
  {
   "cell_type": "markdown",
   "id": "4d33ec01",
   "metadata": {},
   "source": [
    "##### по п. 3\n",
    "\n",
    "Вимірювання з %timeit показують, що  Nadam є обчислювально найважчим алгоритмом на один крок, а Batch GD (векторизований) — найлегшим.\n",
    "\n",
    "Цей тест вимірює \"чисту\" швидкість виконання функції за фіксовану кількість роботи (1000 ітерацій для GD, 10 епох для інших).\n",
    "\n",
    "Batch GD (1000 ітер): 8.47 ms\n",
    "\n",
    "SGD (10 епох): 10.3 ms\n",
    "\n",
    "RMSProp (10 епох): 15.2 ms\n",
    "\n",
    "Adam (10 епох): 22.4 ms\n",
    "\n",
    "Nadam (10 епох): 38.4 ms\n",
    "\n",
    "Batch GD < SGD < RMSProp < Adam < Nadam — це ієрархія складності однієї ітерації. Результати %timeit це ідеально підтверджують."
   ]
  },
  {
   "cell_type": "markdown",
   "id": "650e5056",
   "metadata": {},
   "source": [
    "##### по п. 4\n",
    "\n",
    "Чи вийшло відновити початкові параметри - Ні. \n",
    "\n",
    "Параметри, які ми знайшли (напр., GD: [ 0.503, 1.875, -0.573, 0.351, -0.169, 0.431 ]), не є початковими параметрами [0, 3, -6, 4, -2, 5].\n",
    "\n",
    "Вони є правильними коефіцієнтами для масштабованих даних. Ми використали StandardScaler на X.\n",
    "\n",
    "Ієрархія часу така сама, як і в %timeit. Nadam знову найповільніший, GD — найшвидший.\n",
    "\n",
    "По точності: усі методи, окрім RMSProp, знайшли практично ідеальний розв'язок (тут найбільша помилка).\n",
    "\n",
    "SGD, Adam та Nadam зійшлися до абсолютно ідентичних коефіцієнтів. GD дуже близький до них. RMSProp помітно відрізняється, що й пояснює його вищий MSE."
   ]
  },
  {
   "cell_type": "code",
   "execution_count": 63,
   "id": "e7d0310f",
   "metadata": {},
   "outputs": [
    {
     "name": "stdout",
     "output_type": "stream",
     "text": [
      "\n",
      "--- Спроба відновити початкові параметри (на НЕмасштабованих даних) ---\n",
      "Очікувані параметри: [ 0.  3. -6.  4. -2.  5.]\n",
      "\n",
      "GD (unscaled) (MSE: 0.17803):\n",
      "Знайдені: [-0.356  2.639 -1.536  3.048  0.254 -0.71 ]\n",
      "\n",
      "Adam (unscaled) (MSE: 0.00174):\n",
      "Знайдені: [-0.16   3.087 -5.384  4.04  -2.204  4.511]\n",
      "\n",
      "Nadam (unscaled) (MSE: 0.00175):\n",
      "Знайдені: [-0.16   3.087 -5.383  4.04  -2.204  4.51 ]\n"
     ]
    }
   ],
   "source": [
    "# --- Спроба знайти початкові коефіцієнти ---\n",
    "# Використовуємо X_poly (НЕ масштабований)\n",
    "\n",
    "print(\"\\n--- Спроба відновити початкові параметри (на НЕмасштабованих даних) ---\")\n",
    "\n",
    "X_train_unscaled, X_test_unscaled, y_train_unscaled, y_test_unscaled = train_test_split(X_poly, y, test_size=0.2, random_state=42)\n",
    "\n",
    "unscaled_lr = 0.001\n",
    "n_iter_batch = 20000\n",
    "n_iter_epochs = 1000\n",
    "\n",
    "unscaled_methods = {\n",
    "    \"GD (unscaled)\": (gradient_descent, n_iter_batch, unscaled_lr),\n",
    "    \"Adam (unscaled)\": (adam, n_iter_epochs, unscaled_lr),\n",
    "    \"Nadam (unscaled)\": (nadam, n_iter_epochs, unscaled_lr)\n",
    "}\n",
    "\n",
    "# Очікувані коефіцієнти: [bias, x1, x2, x1^2, x1*x2, x2^2]\n",
    "# Наша функція: 4*x1^2 + 5*x2^2 - 2*x1*x2 + 3*x1 - 6*x2 + 0 (bias)\n",
    "# Порядок ознак в X_poly: [1, x1, x2, x1^2, x1*x2, x2^2]\n",
    "expected_theta = np.array([0.0, 3.0, -6.0, 4.0, -2.0, 5.0]) \n",
    "\n",
    "print(f\"Очікувані параметри: {expected_theta}\")\n",
    "\n",
    "for name, (method, n_iter, lr) in unscaled_methods.items():\n",
    "    theta = method(X_train_unscaled, y_train_unscaled, lr=lr, n_iter=n_iter)\n",
    "    y_pred = X_test_unscaled.dot(theta)\n",
    "    mse = mean_squared_error(y_test_unscaled, y_pred)\n",
    "    \n",
    "    print(f\"\\n{name} (MSE: {mse:.5f}):\")\n",
    "    print(f\"Знайдені: {np.round(theta, 3)}\")"
   ]
  },
  {
   "cell_type": "markdown",
   "id": "65857c9a",
   "metadata": {},
   "source": [
    "Висновок: Майже вдалося відновити початкові параметри на НЕмасштабованих даних з дуже малим learning rate та великою кількістю ітерацій. Вони близькі до очікуваних. Особливо для Adam та Nadam."
   ]
  },
  {
   "cell_type": "markdown",
   "id": "75bed401",
   "metadata": {},
   "source": [
    "##### по п. 5"
   ]
  },
  {
   "cell_type": "markdown",
   "id": "2ecbf4d7",
   "metadata": {},
   "source": [
    "Графіки помилок від часу показали:\n",
    "\n",
    "- Batch GD: це повільна, стабільна, але вкрай неефективна збіжність. За 1000 ітерацій він навіть близько не підійшов до того результату, який інші методи досягли за 50 епох. \n",
    "- Adam (червоний):надзвичайно швидко збігається, досягаючи мінімальної помилки (плато біля $10^{-30}$) приблизно за 40-50 епох. \n",
    "- Nadam: знаходить мінімум так само швидко, як Adam (приблизно за 50 епох).\n",
    "\n",
    "Обидва Adam і Nadam стають нестабільними приблизно з 60-ї по 200-у епоху. Там помилка \"стрибає\" на 10-15 порядків (від $10^{-30}$ до $10^{-17}$). Це означає, що метод втрачає мінімум.\n",
    "\n",
    "- SGD: чудовий результат. Він збігається достатньо швидко, досягаючи плато (біля $10^{-29}$) приблизно за 150 епох. Після цього залишається стабільним.\n",
    "- RMSProp: графік показує, що RMSProp з поточним learning_rate не працює. Він нестабільний з самого початку, і його помилка \"вибухає\" після 10-20 епох."
   ]
  },
  {
   "cell_type": "markdown",
   "id": "5df6760f",
   "metadata": {},
   "source": [
    "Оптимальна кількість ітерацій:\n",
    "- Adam: ~50 епох\n",
    "- SGD: ~150 епох\n",
    "- Nadam: ~50 епох. Він збігається так само швидко, як Adam, але їх потрібно зупиняти (робити \"early stopping\").\n",
    "- RMSProp: Не збігається. Оптимальної кількості не існує. Важко припустити що за 10-20 епох виявився найкращий результат.\n",
    "- Batch GD: Не збігається до прийнятного рівня на цьому графіку. Тобто треба робити на порядки більше ітерацій."
   ]
  }
 ],
 "metadata": {
  "kernelspec": {
   "display_name": ".myenv071025 (3.11.9)",
   "language": "python",
   "name": "python3"
  },
  "language_info": {
   "codemirror_mode": {
    "name": "ipython",
    "version": 3
   },
   "file_extension": ".py",
   "mimetype": "text/x-python",
   "name": "python",
   "nbconvert_exporter": "python",
   "pygments_lexer": "ipython3",
   "version": "3.11.9"
  }
 },
 "nbformat": 4,
 "nbformat_minor": 5
}
